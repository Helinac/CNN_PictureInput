{
 "cells": [
  {
   "cell_type": "code",
   "execution_count": 3,
   "id": "68f6cf9a",
   "metadata": {},
   "outputs": [
    {
     "data": {
      "image/jpeg": "[encoded data removed]",
      "image/png": "[encoded data removed]",
      "text/plain": [
       "<PIL.Image.Image image mode=RGB size=120x129>"
      ]
     },
     "execution_count": 3,
     "metadata": {},
     "output_type": "execute_result"
    }
   ],
   "source": [
    "from PIL import Image, ImageDraw\n",
    "import pandas as pd\n",
    "\n",
    "df = pd.read_csv('AAPL.csv')  # Ensure the path to the CSV file is correct\n",
    "\n",
    "AAPL1 = df[140:170]  # Data for 20 entries, not 30 as the comment stated\n",
    "\n",
    "# Setup\n",
    "bar_width = 3\n",
    "spacing = 1\n",
    "height_factor = 100  # Scaling factor for prices\n",
    "volume_height = 20  # Height allocated for volume bars\n",
    "space_between_sections = 10  # Space between OHLC and volume sections\n",
    "\n",
    "# Calculate image dimensions\n",
    "num_bars = len(AAPL1)\n",
    "image_width = num_bars * (bar_width + spacing)\n",
    "max_price = AAPL1[['Open', 'High', 'Low', 'Close', '20-day Avg.']].max().max()\n",
    "min_price = AAPL1[['Open', 'High', 'Low', 'Close', '20-day Avg.']].min().min()\n",
    "max_volume = AAPL1['Volume'].max()\n",
    "volume_scale = volume_height / max_volume\n",
    "image_height = int((max_price - min_price) * height_factor) + volume_height + space_between_sections + 10\n",
    "\n",
    "# Create a blank image and get drawing context\n",
    "image_black_bg = Image.new(\"RGB\", (image_width, image_height), \"black\")\n",
    "draw_black_bg = ImageDraw.Draw(image_black_bg)\n",
    "\n",
    "# Reset index for AAPL1 to help with plotting\n",
    "AAPL1 = AAPL1.reset_index(drop=True)\n",
    "\n",
    "# Draw OHLC sticks and volume bars\n",
    "for index, row in AAPL1.iterrows():\n",
    "    open_px = int((row['Open'] - min_price) * height_factor)\n",
    "    high_px = int((row['High'] - min_price) * height_factor)\n",
    "    low_px = int((row['Low'] - min_price) * height_factor)\n",
    "    close_px = int((row['Close'] - min_price) * height_factor)\n",
    "    \n",
    "    # Calculate positions\n",
    "    x_position = index * (bar_width + spacing)\n",
    "    open_y = image_height - open_px - volume_height - space_between_sections\n",
    "    high_y = image_height - high_px - volume_height - space_between_sections\n",
    "    low_y = image_height - low_px - volume_height - space_between_sections\n",
    "    close_y = image_height - close_px - volume_height - space_between_sections\n",
    "    \n",
    "    # Draw high to low line\n",
    "    draw_black_bg.line([(x_position + 1, high_y), (x_position + 1, low_y)], fill=\"white\")\n",
    "    \n",
    "    # Draw open tick\n",
    "    draw_black_bg.line([(x_position, open_y), (x_position + 1, open_y)], fill=\"white\")\n",
    "    \n",
    "    # Draw close tick\n",
    "    draw_black_bg.line([(x_position + 2, close_y), (x_position + 1, close_y)], fill=\"white\")\n",
    "\n",
    "    # Draw volume bar\n",
    "    volume_height_px = int(row['Volume'] * volume_scale)\n",
    "    volume_top = image_height - volume_height_px\n",
    "    volume_bottom = image_height\n",
    "    draw_black_bg.line([(x_position + 1, volume_top), (x_position + 1, volume_bottom)], fill=\"white\")\n",
    "\n",
    "# Draw 20-day moving average line\n",
    "previous_ma_y = None\n",
    "for index, row in AAPL1.iterrows():\n",
    "    if pd.notna(row['20-day Avg.']):  # Ensure the MA value exists\n",
    "        ma_y = image_height - int((row['20-day Avg.'] - min_price) * height_factor) - volume_height - space_between_sections\n",
    "        x_position = index * (bar_width + spacing) + 1\n",
    "        if previous_ma_y is not None:\n",
    "            draw_black_bg.line([(x_position - (bar_width + spacing), previous_ma_y), (x_position, ma_y)], fill=\"White\")\n",
    "        previous_ma_y = ma_y\n",
    "\n",
    "image_black_bg  # Display the image"
   ]
  },
  {
   "cell_type": "code",
   "execution_count": null,
   "id": "e02c8cd5",
   "metadata": {},
   "outputs": [],
   "source": []
  }
 ],
 "metadata": {
  "kernelspec": {
   "display_name": "Python 3 (ipykernel)",
   "language": "python",
   "name": "python3"
  },
  "language_info": {
   "codemirror_mode": {
    "name": "ipython",
    "version": 3
   },
   "file_extension": ".py",
   "mimetype": "text/x-python",
   "name": "python",
   "nbconvert_exporter": "python",
   "pygments_lexer": "ipython3",
   "version": "3.11.5"
  }
 },
 "nbformat": 4,
 "nbformat_minor": 5
}
